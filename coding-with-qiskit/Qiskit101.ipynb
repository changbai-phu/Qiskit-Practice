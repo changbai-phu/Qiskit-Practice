{
 "cells": [
  {
   "cell_type": "markdown",
   "metadata": {},
   "source": [
    "# Qiskit 101"
   ]
  },
  {
   "cell_type": "markdown",
   "metadata": {},
   "source": [
    "The content of this page is fully based on the Link: https://learning.quantum.ibm.com/course/qiskit-101-and-102/qiskit-101 "
   ]
  },
  {
   "cell_type": "markdown",
   "metadata": {},
   "source": [
    "### What is Qiskit?\n",
    "- *(**my own understanding, later will be shorted as m.o.u.**) a platform to implement and experiment with the quantum circuit model by expressing associated quantum algorithms as quantum circuits.*\n",
    "- Qiskit SDK\n",
    "- Qiskit Runtime\n",
    "- Qiskit Patterns\n",
    "- Qiskit Ecosystem "
   ]
  },
  {
   "cell_type": "markdown",
   "metadata": {},
   "source": [
    "### Getting set up with Qiskit \n",
    "pip install 'qiskit[visualization]' <br>\n",
    "pip install qiskit-ibm-runtime <br>\n",
    "IBM hardware: setup credentials on IBM Quantum Platform or IBM cloud"
   ]
  },
  {
   "cell_type": "markdown",
   "metadata": {},
   "source": [
    "### Qiskit Patterns\n",
    "1. Map problem to quantum circuits and operators\n",
    "- Start with numerical representation\n",
    "- Map to quantum computing representation\n",
    "- Choose quantum algorithm \n",
    "\n",
    "2. Optimize circuits for target hardware\n",
    "3. Execute on target hardware\n",
    "4. Postprocessing results (& plot)"
   ]
  },
  {
   "cell_type": "markdown",
   "metadata": {},
   "source": [
    "### 1. Map problem to quantum circuits and operators\n",
    "#### Build a circuit with Qiskit SDK\n",
    "- quantum circuit: the foundation of quantum programs, consists of operations (gates, measurement, reset)\n",
    "- To build a circuit: \n",
    "    - initialize a register of qubits\n",
    "    - add the qubits to a circuit\n",
    "    - perform operations on those qubits\n",
    "- Qiskit SDK includes a library of standard gates and circuits\n",
    "    - gates: Hadamard, Pauli rotation gates, CNOT, QFT etc\n",
    "    - variational ansatzes"
   ]
  },
  {
   "cell_type": "code",
   "execution_count": 1,
   "metadata": {},
   "outputs": [
    {
     "data": {
      "image/png": "[encoded data removed]",
      "text/plain": [
       "<Figure size 580.387x284.278 with 1 Axes>"
      ]
     },
     "execution_count": 1,
     "metadata": {},
     "output_type": "execute_result"
    }
   ],
   "source": [
    "from qiskit import QuantumCircuit, QuantumRegister\n",
    "\n",
    "qubits = QuantumRegister(2, name='q')\n",
    "circuit = QuantumCircuit(qubits)\n",
    "\n",
    "q0, q1 = qubits\n",
    "circuit.h(q0)\n",
    "circuit.cx(q0, q1)\n",
    "circuit.measure_all()\n",
    "\n",
    "circuit.draw('mpl')"
   ]
  },
  {
   "cell_type": "markdown",
   "metadata": {},
   "source": [
    "### 2. Optimize circuits for target hardware\n",
    "#### Optimize for hardware techniques\n",
    "- transpile abstract circuit into a circuit that can run on target hardware\n",
    "- test circuit with simulation \n",
    "#### Constraints on real quantum devices\n",
    "- basis gate set: only a limited set of gates can be executed directly on the hardware. Other gates must be rewritten in terms of the basis gates.\n",
    "- qubit connectivity: only certain pairs of qubits can be directly interacted with each other. \n",
    "    - *(**m.o.u**: why is qubit connectivity one of the constraints? -- see other jupyter notebook 'Questions_Clarified_with_GPT'.)*\n",
    "- errors: each operation has a chance of error.\n",
    "#### Challenge: run abstract circuit on a quantum device\n",
    "- solution: transpilation - convert abstract circuit into an ISA (instruction set architecture) circuit \n",
    "#### Transpilation terms\n",
    "- pass: a standalone circuit or metadata transformation \n",
    "    - *(**m.o.u**: is a transpiler pass a real physical circuit unit that representing one gate from the abstract circuit passed to the transpiler? Answer is: No -- -- see other jupyter notebook 'Questions_Clarified_with_GPT' for more details)*\n",
    "- pass manager: a list of transpiler passes grouped into a logical unit\n",
    "- staged pass manager: a list of pass managers, with each one representing a discreate stage of a transoilation pipeline"
   ]
  },
  {
   "cell_type": "code",
   "execution_count": null,
   "metadata": {},
   "outputs": [],
   "source": [
    "from qiskit.transpiler.preset_passmanagers import generate_preset_pass_manager\n",
    "from qiskit_ibm_runtime import QiskitRuntimeService\n",
    "\n",
    "service = QiskitRuntimeService()\n",
    "backend = service.backend(\"ibm_brisbane\")\n",
    "pass_manager = generate_preset_pass_manager(1, backend=backend)\n",
    "transpiled = pass_manager.run(circuit)\n",
    "\n",
    "transpiled.draw(\"mpl\", idle_wires=False)"
   ]
  },
  {
   "cell_type": "markdown",
   "metadata": {},
   "source": [
    "#### Transpiler stages\n",
    "1. Initialization: prepare a circuit for transpilation\n",
    "2. Layout: map abstract qubits to physical qubits \n",
    "3. Routing: insert SWAP gates to enable interactions between qubits\n",
    "4. Translation: gates are translated to basis gate set of the physical device\n",
    "5. Optimizatioon: rewwrite circuit to minimze # of operations to reduct errors\n",
    "6. Scheduling: deplay instructions to aligh the circuit with the hardware's timing\n",
    "\n",
    "#### Additional transpilation tools\n",
    "- Qiskit transpiler service\n",
    "- Qiskit Ecosystem\n",
    "- Write your own transpiler plugins\n",
    "\n",
    "#### Simulation tools\n",
    "- Qiskit SDK reference primitives: exact simulation, but only small circuits and no noise\n",
    "- Qiskit Runtime local testing: provide 'fake' backends to model each quantum machine\n",
    "- Qiskit Aer: ecosystem project for simulation for larger circuits, noise models, stabilizer circuits\n",
    "\n",
    "##### Runtime cost of simulating quantum circuits scales exponentially with # of qubits\n",
    "- techniques for large circuits:\n",
    "    - test smaller versions of circuit\n",
    "    - modify circuit to make it classically simulatable (stabilizer circuit/Clifford circuit)"
   ]
  },
  {
   "cell_type": "markdown",
   "metadata": {},
   "source": [
    "### 3. Execute on target hardware\n",
    "Primitives: encapsulate output\n",
    "- Sampler primitive (has measurements)\n",
    "    - output is a probability distribution over possible measurement outcomes\n",
    "- Estimator primitives (should not include measurements)\n",
    "    - output is the expectation value of observable "
   ]
  },
  {
   "cell_type": "markdown",
   "metadata": {},
   "source": [
    "### 4. Post-processing"
   ]
  },
  {
   "cell_type": "markdown",
   "metadata": {},
   "source": []
  }
 ],
 "metadata": {
  "kernelspec": {
   "display_name": "cwq",
   "language": "python",
   "name": "python3"
  },
  "language_info": {
   "codemirror_mode": {
    "name": "ipython",
    "version": 3
   },
   "file_extension": ".py",
   "mimetype": "text/x-python",
   "name": "python",
   "nbconvert_exporter": "python",
   "pygments_lexer": "ipython3",
   "version": "3.13.0"
  }
 },
 "nbformat": 4,
 "nbformat_minor": 2
}
