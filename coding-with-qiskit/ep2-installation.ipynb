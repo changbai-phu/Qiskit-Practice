{
 "cells": [
  {
   "cell_type": "markdown",
   "metadata": {},
   "source": [
    "- install miniconda \n",
    "- after finishing installing miniconda, open terminal in vscode to create virtual env using 'conda create --name <name>'\n",
    "- then activate the virtual env 'conda activate <name>' \n",
    "(I have create a new separate folder, so need to 'cd' to the specific folder directory first)\n",
    "\n",
    "- then we need to install some necessary packages\n",
    "    - conda install pip\n",
    "    - pip install qiskit\n",
    "    - pip install matplotlib\n",
    "    - pip install qiskit_ibm_runtime\n",
    "    - pip install pylatexenc \n",
    "\n",
    "- close vscode and reopen to create a new jupyter notebook and save to the folder\n",
    "- click 'kernel' on the top right corner to choose 'cwq' env we created in the previous steps as kernel\n",
    "- import qiskit to check if it is installed successfully\n",
    "\n",
    "- To get the API token: https://quantum.ibm.com "
   ]
  },
  {
   "cell_type": "code",
   "execution_count": 1,
   "metadata": {},
   "outputs": [],
   "source": [
    "import qiskit"
   ]
  },
  {
   "cell_type": "code",
   "execution_count": 2,
   "metadata": {},
   "outputs": [
    {
     "data": {
      "text/plain": [
       "'1.3.0'"
      ]
     },
     "execution_count": 2,
     "metadata": {},
     "output_type": "execute_result"
    }
   ],
   "source": [
    "qiskit.__version__"
   ]
  },
  {
   "cell_type": "code",
   "execution_count": null,
   "metadata": {},
   "outputs": [],
   "source": [
    "from qiskit_ibm_runtime import QiskitRuntimeService\n",
    "\n",
    "service = QiskitRuntimeService(channel='ibm_quantum', \n",
    "                               token='')"
   ]
  },
  {
   "cell_type": "code",
   "execution_count": null,
   "metadata": {},
   "outputs": [],
   "source": [
    "QiskitRuntimeService.save_account(channel='ibm_quantum', \n",
    "                               token='')"
   ]
  },
  {
   "cell_type": "code",
   "execution_count": 5,
   "metadata": {},
   "outputs": [
    {
     "data": {
      "text/plain": [
       "127"
      ]
     },
     "execution_count": 5,
     "metadata": {},
     "output_type": "execute_result"
    }
   ],
   "source": [
    "backend = service.backend(name='ibm_brisbane')\n",
    "backend.num_qubits"
   ]
  }
 ],
 "metadata": {
  "kernelspec": {
   "display_name": "cwq",
   "language": "python",
   "name": "python3"
  },
  "language_info": {
   "codemirror_mode": {
    "name": "ipython",
    "version": 3
   },
   "file_extension": ".py",
   "mimetype": "text/x-python",
   "name": "python",
   "nbconvert_exporter": "python",
   "pygments_lexer": "ipython3",
   "version": "3.13.0"
  }
 },
 "nbformat": 4,
 "nbformat_minor": 2
}
